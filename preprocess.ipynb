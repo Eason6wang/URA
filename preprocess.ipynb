{
 "cells": [
  {
   "cell_type": "code",
   "execution_count": 15,
   "metadata": {},
   "outputs": [],
   "source": [
    "import os\n",
    "from shutil import copyfile\n",
    "from os.path import isfile, join\n",
    "import shutil\n",
    "\n",
    "\n",
    "image_path = '../dataset/bestExposure'\n",
    "label_path = './labels.txt'\n",
    "testing_path = './testing_data/'\n",
    "training_path = './training_data/'\n",
    "shutil.rmtree('./testing_data/3/')\n",
    "shutil.rmtree('./testing_data/5/')\n",
    "shutil.rmtree('./training_data/3/')\n",
    "shutil.rmtree('./training_data/5/')\n",
    "os.mkdir('./testing_data/3/')\n",
    "os.mkdir('./testing_data/5/')\n",
    "os.mkdir('./training_data/3/')\n",
    "os.mkdir('./training_data/5/')\n",
    "\n",
    "with open(label_path, 'r') as f:\n",
    "    for index, line in enumerate(f.readlines()):\n",
    "        path, label = line.strip('\\n').split(' ')\n",
    "        origin_path = join(image_path, os.path.basename(path))\n",
    "        if index < 20:  \n",
    "            if int(label) <= 3:\n",
    "                output_path = join(testing_path, '3', os.path.basename(path))\n",
    "            else:\n",
    "                output_path = join(testing_path, '5', os.path.basename(path))\n",
    "        else:\n",
    "            if int(label) <= 3:\n",
    "                output_path = join(training_path, '3', os.path.basename(path))\n",
    "            else:\n",
    "                output_path = join(training_path, '5', os.path.basename(path))\n",
    "        copyfile(origin_path,output_path)\n",
    "\n",
    "\n"
   ]
  },
  {
   "cell_type": "code",
   "execution_count": 24,
   "metadata": {},
   "outputs": [],
   "source": [
    "import os\n",
    "from os import listdir\n",
    "from os.path import isfile, join\n",
    "from shutil import copyfile\n",
    "path1 = './data/train/dog'\n",
    "dog = [f for f in listdir(path1) if isfile(join(path1, f))]\n",
    "path2 = './data/train/cat'\n",
    "cat = [f for f in listdir(path2) if isfile(join(path2, f))]"
   ]
  },
  {
   "cell_type": "code",
   "execution_count": 25,
   "metadata": {},
   "outputs": [],
   "source": [
    "num = 1\n",
    "for index in [0,10,20,30,40]:\n",
    "    train_dog = dog[0:index] + dog[index+10:]\n",
    "    train_cat = cat[0:index] + cat[index+10:]\n",
    "    validate_dog = dog[index : index+10]\n",
    "    validate_cat = cat[index : index+10]\n",
    "    ori_path = './data/train/'\n",
    "    train_path = './data/train' + str(num) + '/'\n",
    "    validation_path = './data/validation' + str(num) + '/'\n",
    "    train_dog_path = train_path + 'dog/'\n",
    "    train_cat_path = train_path + 'cat/'\n",
    "    validation_dog_path = validation_path + 'dog/'\n",
    "    validation_cat_path = validation_path + 'cat/'\n",
    "    try: \n",
    "        os.mkdir(train_path)\n",
    "        os.mkdir(validation_path)\n",
    "        os.mkdir(train_dog_path)\n",
    "        os.mkdir(train_cat_path)\n",
    "        os.mkdir(validation_dog_path)\n",
    "        os.mkdir(validation_cat_path)\n",
    "    except:\n",
    "        pass\n",
    "    for dog_name in train_dog:\n",
    "        copyfile(ori_path + 'dog/' +  dog_name, train_dog_path + dog_name)\n",
    "    for dog_name in validate_dog:\n",
    "        copyfile(ori_path + 'dog/' +  dog_name, validation_dog_path + dog_name)\n",
    "    for cat_name in train_cat:\n",
    "        copyfile(ori_path + 'cat/' +  cat_name, train_cat_path + cat_name)\n",
    "    for cat_name in validate_cat:\n",
    "        copyfile(ori_path + 'cat/' +  cat_name, validation_cat_path + cat_name)\n",
    "    num +=1\n",
    "    "
   ]
  },
  {
   "cell_type": "code",
   "execution_count": null,
   "metadata": {},
   "outputs": [],
   "source": []
  },
  {
   "cell_type": "code",
   "execution_count": null,
   "metadata": {},
   "outputs": [],
   "source": []
  }
 ],
 "metadata": {
  "kernelspec": {
   "display_name": "Python 3",
   "language": "python",
   "name": "python3"
  },
  "language_info": {
   "codemirror_mode": {
    "name": "ipython",
    "version": 3
   },
   "file_extension": ".py",
   "mimetype": "text/x-python",
   "name": "python",
   "nbconvert_exporter": "python",
   "pygments_lexer": "ipython3",
   "version": "3.6.6"
  }
 },
 "nbformat": 4,
 "nbformat_minor": 2
}
