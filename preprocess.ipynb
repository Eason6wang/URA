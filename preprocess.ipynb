{
 "cells": [
  {
   "cell_type": "code",
   "execution_count": 10,
   "metadata": {},
   "outputs": [],
   "source": [
    "import os\n",
    "from shutil import copyfile\n",
    "from os.path import isfile, join\n",
    "image_path = '../dataset/bestExposure'\n",
    "label_path = './labels.txt'\n",
    "testing_path = './testing_data/'\n",
    "training_path = './training_data/'\n",
    "\n",
    "with open(label_path, 'r') as f:\n",
    "    for index, line in enumerate(f.readlines()):\n",
    "        path, label = line.strip('\\n').split(' ')\n",
    "        origin_path = join(image_path, os.path.basename(path))\n",
    "        if index < 90:  \n",
    "            if int(label) <= 3:\n",
    "                output_path = join(testing_path, '3', os.path.basename(path))\n",
    "            else:\n",
    "                output_path = join(testing_path, '5', os.path.basename(path))\n",
    "        else:\n",
    "            if int(label) <= 3:\n",
    "                output_path = join(training_path, '3', os.path.basename(path))\n",
    "            else:\n",
    "                output_path = join(training_path, '5', os.path.basename(path))\n",
    "        copyfile(origin_path,output_path)\n",
    "\n",
    "\n"
   ]
  },
  {
   "cell_type": "code",
   "execution_count": null,
   "metadata": {
    "collapsed": true
   },
   "outputs": [],
   "source": []
  }
 ],
 "metadata": {
  "kernelspec": {
   "display_name": "Python 3",
   "language": "python",
   "name": "python3"
  },
  "language_info": {
   "codemirror_mode": {
    "name": "ipython",
    "version": 3
   },
   "file_extension": ".py",
   "mimetype": "text/x-python",
   "name": "python",
   "nbconvert_exporter": "python",
   "pygments_lexer": "ipython3",
   "version": "3.6.6"
  }
 },
 "nbformat": 4,
 "nbformat_minor": 2
}
