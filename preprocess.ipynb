{
 "cells": [
  {
   "cell_type": "code",
   "execution_count": 16,
   "metadata": {},
   "outputs": [],
   "source": [
    "from os import listdir\n",
    "from os.path import isfile, join\n",
    "image_path = './dataset/bestExposure'\n",
    "onlyfiles = sorted([join(image_path, f) for f in listdir(image_path) if isfile(join(image_path, f))])\n",
    "label_path = './dataset/Labeling/quality.txt'\n",
    "output = open('./labels.txt','w') \n",
    " \n",
    "with open(label_path, 'r') as f:\n",
    "    for index, line in enumerate(f.readlines()):\n",
    "        label = int(line.strip().split(':')[1])\n",
    "        out = onlyfiles[index] + ' ' + str(label) + '\\n'\n",
    "        output.write(out)\n",
    "output.close() "
   ]
  },
  {
   "cell_type": "code",
   "execution_count": null,
   "metadata": {
    "collapsed": true
   },
   "outputs": [],
   "source": []
  }
 ],
 "metadata": {
  "kernelspec": {
   "display_name": "Python 3",
   "language": "python",
   "name": "python3"
  },
  "language_info": {
   "codemirror_mode": {
    "name": "ipython",
    "version": 3
   },
   "file_extension": ".py",
   "mimetype": "text/x-python",
   "name": "python",
   "nbconvert_exporter": "python",
   "pygments_lexer": "ipython3",
   "version": "3.6.3"
  }
 },
 "nbformat": 4,
 "nbformat_minor": 2
}
